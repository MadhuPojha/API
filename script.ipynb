{
 "cells": [
  {
   "cell_type": "code",
   "execution_count": 3,
   "metadata": {},
   "outputs": [],
   "source": [
    "import requests"
   ]
  },
  {
   "cell_type": "code",
   "execution_count": 5,
   "metadata": {},
   "outputs": [
    {
     "name": "stdout",
     "output_type": "stream",
     "text": [
      "200\n",
      "Success!\n"
     ]
    }
   ],
   "source": [
    "response = requests.get(\"http://api.weatherapi.com\")\n",
    "\n",
    "print(response.status_code)\n",
    "if response.status_code == 200:\n",
    "    print(\"Success!\")\n",
    "elif response.status_code == 500:\n",
    "    print(\"Server error.\")\n",
    "elif response.status_code == 404:\n",
    "    print(\"Page not found.\")"
   ]
  },
  {
   "cell_type": "markdown",
   "metadata": {},
   "source": [
    "Using Exception"
   ]
  },
  {
   "cell_type": "code",
   "execution_count": 6,
   "metadata": {},
   "outputs": [
    {
     "name": "stdout",
     "output_type": "stream",
     "text": [
      "404\n"
     ]
    }
   ],
   "source": [
    "try:\n",
    "    response = requests.get(\"http://api.weatherapi.com/aa\")\n",
    "except requests.exceptions.HTTPError as http_err:\n",
    "    print(f\"HTTP error occurred: {http_err}\")\n",
    "except Exception as err:\n",
    "    print(err)\n",
    "else:\n",
    "    print(response.status_code)"
   ]
  },
  {
   "cell_type": "markdown",
   "metadata": {},
   "source": [
    "using query parameters"
   ]
  },
  {
   "cell_type": "code",
   "execution_count": 15,
   "metadata": {},
   "outputs": [],
   "source": [
    "import requests\n",
    "\n",
    "query_params = {'first_id': 1, 'last_id': 2}\n",
    "\n",
    "#response = requests.get(\"http://......\",params=query_params,)\n",
    "\n",
    "#print(response.json())"
   ]
  },
  {
   "cell_type": "markdown",
   "metadata": {},
   "source": [
    "Assigning Event Hooks"
   ]
  },
  {
   "cell_type": "code",
   "execution_count": null,
   "metadata": {},
   "outputs": [],
   "source": [
    "import requests\n",
    "\n",
    "def log_url(response, *args, **kwargs):\n",
    "    print(f\"Requested URL :  {response.url}\")\n",
    "\n",
    "\n",
    "response = requests.get(\n",
    "    \"http://....../\",\n",
    "    hooks={\"response\": log_url},)\n",
    "\n",
    "#print(response.json())"
   ]
  },
  {
   "cell_type": "markdown",
   "metadata": {},
   "source": [
    "Working with form data"
   ]
  },
  {
   "cell_type": "code",
   "execution_count": null,
   "metadata": {},
   "outputs": [],
   "source": [
    "import requests\n",
    "\n",
    "response = requests.post(\n",
    "    \"http://....../\",\n",
    "    data={\"name\": \"ABC\", \"price\": 40},\n",
    "    allow_redirects=False\n",
    ")\n",
    "print(response.request.headers[\"content-type\"])\n",
    "print(response.request.body)"
   ]
  },
  {
   "cell_type": "markdown",
   "metadata": {},
   "source": [
    "Working with Json data"
   ]
  },
  {
   "cell_type": "code",
   "execution_count": null,
   "metadata": {},
   "outputs": [],
   "source": [
    "import requests\n",
    "\n",
    "message_body = {\"name\": \"ABC\", \"price\": 40}\n",
    "\n",
    "response = requests.post(\n",
    "    \"http://....../\",\n",
    "    json=message_body\n",
    ")\n",
    "print(response.request.headers[\"content-type\"])\n",
    "print(response.request.body)"
   ]
  },
  {
   "cell_type": "markdown",
   "metadata": {},
   "source": [
    "Working with XML and other types of Data"
   ]
  },
  {
   "cell_type": "code",
   "execution_count": null,
   "metadata": {},
   "outputs": [],
   "source": [
    "import requests\n",
    "\n",
    "message_body = \"\"\"\n",
    "<item>\n",
    "    <name> ABC</name>\n",
    "    <price> 40 </price>\n",
    "</item>\n",
    "\"\"\"\n",
    "\n",
    "\n",
    "response = requests.post(\n",
    "    \"http://....../\",\n",
    "    data=message_body,\n",
    "    headers={\"content-type\": \"application/xml\"}\n",
    ")\n",
    "print(response.request.headers[\"content-type\"])\n",
    "print(response.request.body)"
   ]
  },
  {
   "cell_type": "markdown",
   "metadata": {},
   "source": [
    "Uploading Files with Post req\n"
   ]
  },
  {
   "cell_type": "code",
   "execution_count": null,
   "metadata": {},
   "outputs": [],
   "source": [
    "file1 = open(\"file1.csv\", \"rb\")\n",
    "file2 = open(\"file2.csv\", \"rb\")\n",
    "\n",
    "files = [\n",
    "    (\"files\", (\"file1.csv\", file1, \"text/csv\")),\n",
    "    (\"files\", (\"file2.csv\", file2, \"text/csv\"))\n",
    "    ]\n",
    "\n",
    "response = requests.post(\n",
    "    \"http://....../\",\n",
    "    files=files,\n",
    ")\n",
    "\n",
    "file1.close()\n",
    "file2.close()\n",
    "\n",
    "print(response.json())"
   ]
  },
  {
   "cell_type": "markdown",
   "metadata": {},
   "source": [
    "Using other HTTP methods"
   ]
  },
  {
   "cell_type": "code",
   "execution_count": null,
   "metadata": {},
   "outputs": [],
   "source": [
    "response = requests.put(\"http://....../api/items/1\",\n",
    "        json={\"name\":\"updated Ppatchut name\"}\n",
    "        )\n",
    "print(response.json())"
   ]
  },
  {
   "cell_type": "code",
   "execution_count": null,
   "metadata": {},
   "outputs": [],
   "source": [
    "response = requests.patch(\"http://....../api/items/1\",\n",
    "        json={\"name\":\"updated Put name\", \"price\": 45}\n",
    "        )\n",
    "print(response.json())"
   ]
  },
  {
   "cell_type": "code",
   "execution_count": null,
   "metadata": {},
   "outputs": [],
   "source": [
    "response = requests.delete(\"http://....../api/items/0\")\n",
    "\n",
    "print(response.json())"
   ]
  }
 ],
 "metadata": {
  "kernelspec": {
   "display_name": "Python 3",
   "language": "python",
   "name": "python3"
  },
  "language_info": {
   "codemirror_mode": {
    "name": "ipython",
    "version": 3
   },
   "file_extension": ".py",
   "mimetype": "text/x-python",
   "name": "python",
   "nbconvert_exporter": "python",
   "pygments_lexer": "ipython3",
   "version": "3.11.4"
  }
 },
 "nbformat": 4,
 "nbformat_minor": 2
}
